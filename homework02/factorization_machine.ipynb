{
 "cells": [
  {
   "cell_type": "code",
   "execution_count": 1,
   "metadata": {},
   "outputs": [],
   "source": [
    "import matplotlib.pyplot as plt\n",
    "import numpy as np\n",
    "import numpy.matlib as npm\n",
    "import pandas as pd\n",
    "import scipy.sparse as sps\n",
    "from datetime import datetime\n",
    "from sklearn.model_selection import train_test_split"
   ]
  },
  {
   "cell_type": "markdown",
   "metadata": {},
   "source": [
    "### Preprocessing"
   ]
  },
  {
   "cell_type": "markdown",
   "metadata": {},
   "source": [
    "Read the data."
   ]
  },
  {
   "cell_type": "code",
   "execution_count": 2,
   "metadata": {},
   "outputs": [],
   "source": [
    "col_names = ['user_id', 'rating', 'date']\n",
    "df = pd.read_csv('combined_data_1.txt', sep=',', header=None, names=col_names)"
   ]
  },
  {
   "cell_type": "code",
   "execution_count": 3,
   "metadata": {},
   "outputs": [
    {
     "data": {
      "text/html": [
       "<div>\n",
       "<style scoped>\n",
       "    .dataframe tbody tr th:only-of-type {\n",
       "        vertical-align: middle;\n",
       "    }\n",
       "\n",
       "    .dataframe tbody tr th {\n",
       "        vertical-align: top;\n",
       "    }\n",
       "\n",
       "    .dataframe thead th {\n",
       "        text-align: right;\n",
       "    }\n",
       "</style>\n",
       "<table border=\"1\" class=\"dataframe\">\n",
       "  <thead>\n",
       "    <tr style=\"text-align: right;\">\n",
       "      <th></th>\n",
       "      <th>user_id</th>\n",
       "      <th>rating</th>\n",
       "      <th>date</th>\n",
       "    </tr>\n",
       "  </thead>\n",
       "  <tbody>\n",
       "    <tr>\n",
       "      <th>0</th>\n",
       "      <td>1:</td>\n",
       "      <td>NaN</td>\n",
       "      <td>NaN</td>\n",
       "    </tr>\n",
       "    <tr>\n",
       "      <th>1</th>\n",
       "      <td>1488844</td>\n",
       "      <td>3.0</td>\n",
       "      <td>2005-09-06</td>\n",
       "    </tr>\n",
       "    <tr>\n",
       "      <th>2</th>\n",
       "      <td>822109</td>\n",
       "      <td>5.0</td>\n",
       "      <td>2005-05-13</td>\n",
       "    </tr>\n",
       "    <tr>\n",
       "      <th>3</th>\n",
       "      <td>885013</td>\n",
       "      <td>4.0</td>\n",
       "      <td>2005-10-19</td>\n",
       "    </tr>\n",
       "    <tr>\n",
       "      <th>4</th>\n",
       "      <td>30878</td>\n",
       "      <td>4.0</td>\n",
       "      <td>2005-12-26</td>\n",
       "    </tr>\n",
       "    <tr>\n",
       "      <th>5</th>\n",
       "      <td>823519</td>\n",
       "      <td>3.0</td>\n",
       "      <td>2004-05-03</td>\n",
       "    </tr>\n",
       "    <tr>\n",
       "      <th>6</th>\n",
       "      <td>893988</td>\n",
       "      <td>3.0</td>\n",
       "      <td>2005-11-17</td>\n",
       "    </tr>\n",
       "    <tr>\n",
       "      <th>7</th>\n",
       "      <td>124105</td>\n",
       "      <td>4.0</td>\n",
       "      <td>2004-08-05</td>\n",
       "    </tr>\n",
       "    <tr>\n",
       "      <th>8</th>\n",
       "      <td>1248029</td>\n",
       "      <td>3.0</td>\n",
       "      <td>2004-04-22</td>\n",
       "    </tr>\n",
       "    <tr>\n",
       "      <th>9</th>\n",
       "      <td>1842128</td>\n",
       "      <td>4.0</td>\n",
       "      <td>2004-05-09</td>\n",
       "    </tr>\n",
       "  </tbody>\n",
       "</table>\n",
       "</div>"
      ],
      "text/plain": [
       "   user_id  rating        date\n",
       "0       1:     NaN         NaN\n",
       "1  1488844     3.0  2005-09-06\n",
       "2   822109     5.0  2005-05-13\n",
       "3   885013     4.0  2005-10-19\n",
       "4    30878     4.0  2005-12-26\n",
       "5   823519     3.0  2004-05-03\n",
       "6   893988     3.0  2005-11-17\n",
       "7   124105     4.0  2004-08-05\n",
       "8  1248029     3.0  2004-04-22\n",
       "9  1842128     4.0  2004-05-09"
      ]
     },
     "execution_count": 3,
     "metadata": {},
     "output_type": "execute_result"
    }
   ],
   "source": [
    "df.head(10)"
   ]
  },
  {
   "cell_type": "code",
   "execution_count": 4,
   "metadata": {},
   "outputs": [
    {
     "name": "stdout",
     "output_type": "stream",
     "text": [
      "<class 'pandas.core.frame.DataFrame'>\n",
      "RangeIndex: 24058263 entries, 0 to 24058262\n",
      "Data columns (total 3 columns):\n",
      "user_id    object\n",
      "rating     float64\n",
      "date       object\n",
      "dtypes: float64(1), object(2)\n",
      "memory usage: 550.7+ MB\n"
     ]
    }
   ],
   "source": [
    "df.info()"
   ]
  },
  {
   "cell_type": "markdown",
   "metadata": {},
   "source": [
    "Create an array with movies' ids and add it as a new column into the dataframe."
   ]
  },
  {
   "cell_type": "code",
   "execution_count": 5,
   "metadata": {},
   "outputs": [
    {
     "data": {
      "text/plain": [
       "24058263"
      ]
     },
     "execution_count": 5,
     "metadata": {},
     "output_type": "execute_result"
    }
   ],
   "source": [
    "len_df = len(df)\n",
    "len_df"
   ]
  },
  {
   "cell_type": "code",
   "execution_count": 6,
   "metadata": {
    "scrolled": true
   },
   "outputs": [],
   "source": [
    "df_mrows = pd.DataFrame(pd.isnull(df['rating']))\n",
    "df_mrows = df_mrows[df_mrows['rating'] == True]\n",
    "df_mrows.reset_index(inplace=True, drop=False)\n",
    "df_mrows.drop(columns=['rating'], inplace=True)"
   ]
  },
  {
   "cell_type": "code",
   "execution_count": 7,
   "metadata": {},
   "outputs": [],
   "source": [
    "df_mrows = df_mrows.append({'index': len_df}, ignore_index=True)"
   ]
  },
  {
   "cell_type": "code",
   "execution_count": 8,
   "metadata": {},
   "outputs": [],
   "source": [
    "cur_mid = 1\n",
    "df_mcol = np.array([], dtype=int)"
   ]
  },
  {
   "cell_type": "code",
   "execution_count": 9,
   "metadata": {},
   "outputs": [],
   "source": [
    "for start_idx, end_idx in zip(df_mrows['index'], df_mrows['index'][1:]):\n",
    "    temp = np.full((1, end_idx - start_idx - 1), cur_mid)\n",
    "    df_mcol = np.append(df_mcol, temp)\n",
    "    cur_mid += 1"
   ]
  },
  {
   "cell_type": "code",
   "execution_count": 10,
   "metadata": {},
   "outputs": [],
   "source": [
    "assert len_df == len(df_mcol) + len(df_mrows) - 1"
   ]
  },
  {
   "cell_type": "code",
   "execution_count": 11,
   "metadata": {},
   "outputs": [],
   "source": [
    "df = df[pd.notnull(df['rating'])]\n",
    "df['movie_id'] = df_mcol"
   ]
  },
  {
   "cell_type": "code",
   "execution_count": 12,
   "metadata": {},
   "outputs": [],
   "source": [
    "df = df.sample(frac=1).reset_index(drop=True)"
   ]
  },
  {
   "cell_type": "code",
   "execution_count": 13,
   "metadata": {},
   "outputs": [
    {
     "data": {
      "text/html": [
       "<div>\n",
       "<style scoped>\n",
       "    .dataframe tbody tr th:only-of-type {\n",
       "        vertical-align: middle;\n",
       "    }\n",
       "\n",
       "    .dataframe tbody tr th {\n",
       "        vertical-align: top;\n",
       "    }\n",
       "\n",
       "    .dataframe thead th {\n",
       "        text-align: right;\n",
       "    }\n",
       "</style>\n",
       "<table border=\"1\" class=\"dataframe\">\n",
       "  <thead>\n",
       "    <tr style=\"text-align: right;\">\n",
       "      <th></th>\n",
       "      <th>user_id</th>\n",
       "      <th>rating</th>\n",
       "      <th>date</th>\n",
       "      <th>movie_id</th>\n",
       "    </tr>\n",
       "  </thead>\n",
       "  <tbody>\n",
       "    <tr>\n",
       "      <th>0</th>\n",
       "      <td>2282641</td>\n",
       "      <td>3.0</td>\n",
       "      <td>2005-02-16</td>\n",
       "      <td>2960</td>\n",
       "    </tr>\n",
       "    <tr>\n",
       "      <th>1</th>\n",
       "      <td>350806</td>\n",
       "      <td>3.0</td>\n",
       "      <td>2005-07-06</td>\n",
       "      <td>2209</td>\n",
       "    </tr>\n",
       "    <tr>\n",
       "      <th>2</th>\n",
       "      <td>363775</td>\n",
       "      <td>2.0</td>\n",
       "      <td>2003-04-10</td>\n",
       "      <td>1585</td>\n",
       "    </tr>\n",
       "    <tr>\n",
       "      <th>3</th>\n",
       "      <td>813189</td>\n",
       "      <td>3.0</td>\n",
       "      <td>2005-09-03</td>\n",
       "      <td>985</td>\n",
       "    </tr>\n",
       "    <tr>\n",
       "      <th>4</th>\n",
       "      <td>92177</td>\n",
       "      <td>3.0</td>\n",
       "      <td>2004-11-12</td>\n",
       "      <td>231</td>\n",
       "    </tr>\n",
       "    <tr>\n",
       "      <th>5</th>\n",
       "      <td>1429362</td>\n",
       "      <td>1.0</td>\n",
       "      <td>2005-08-16</td>\n",
       "      <td>989</td>\n",
       "    </tr>\n",
       "    <tr>\n",
       "      <th>6</th>\n",
       "      <td>744121</td>\n",
       "      <td>4.0</td>\n",
       "      <td>2005-05-15</td>\n",
       "      <td>2171</td>\n",
       "    </tr>\n",
       "    <tr>\n",
       "      <th>7</th>\n",
       "      <td>2488496</td>\n",
       "      <td>4.0</td>\n",
       "      <td>2004-09-18</td>\n",
       "      <td>1754</td>\n",
       "    </tr>\n",
       "    <tr>\n",
       "      <th>8</th>\n",
       "      <td>2129953</td>\n",
       "      <td>5.0</td>\n",
       "      <td>2002-02-15</td>\n",
       "      <td>788</td>\n",
       "    </tr>\n",
       "    <tr>\n",
       "      <th>9</th>\n",
       "      <td>2554977</td>\n",
       "      <td>3.0</td>\n",
       "      <td>2004-01-19</td>\n",
       "      <td>2409</td>\n",
       "    </tr>\n",
       "  </tbody>\n",
       "</table>\n",
       "</div>"
      ],
      "text/plain": [
       "   user_id  rating        date  movie_id\n",
       "0  2282641     3.0  2005-02-16      2960\n",
       "1   350806     3.0  2005-07-06      2209\n",
       "2   363775     2.0  2003-04-10      1585\n",
       "3   813189     3.0  2005-09-03       985\n",
       "4    92177     3.0  2004-11-12       231\n",
       "5  1429362     1.0  2005-08-16       989\n",
       "6   744121     4.0  2005-05-15      2171\n",
       "7  2488496     4.0  2004-09-18      1754\n",
       "8  2129953     5.0  2002-02-15       788\n",
       "9  2554977     3.0  2004-01-19      2409"
      ]
     },
     "execution_count": 13,
     "metadata": {},
     "output_type": "execute_result"
    }
   ],
   "source": [
    "df.head(10)"
   ]
  },
  {
   "cell_type": "markdown",
   "metadata": {},
   "source": [
    "Create the user & movie one-hot encoding matrix and get it in the CSR format."
   ]
  },
  {
   "cell_type": "code",
   "execution_count": 14,
   "metadata": {},
   "outputs": [],
   "source": [
    "n_users = df['user_id'].nunique()\n",
    "n_movies = df['movie_id'].nunique()\n",
    "n_ratings = df.shape[0]"
   ]
  },
  {
   "cell_type": "code",
   "execution_count": 15,
   "metadata": {},
   "outputs": [],
   "source": [
    "uid_to_idx, idx_to_uid = {}, {}\n",
    "for idx, user_id in enumerate(df['user_id'].unique()):\n",
    "    uid_to_idx[user_id] = idx\n",
    "    idx_to_uid[idx] = user_id"
   ]
  },
  {
   "cell_type": "code",
   "execution_count": 16,
   "metadata": {},
   "outputs": [],
   "source": [
    "mid_to_idx, idx_to_mid = {}, {}\n",
    "for idx, movie_id in enumerate(df['movie_id'].unique()):\n",
    "    mid_to_idx[movie_id] = idx + n_users\n",
    "    idx_to_mid[idx + n_users] = movie_id"
   ]
  },
  {
   "cell_type": "code",
   "execution_count": 17,
   "metadata": {},
   "outputs": [],
   "source": [
    "def map_ids(row, mapper):\n",
    "    return mapper[row]"
   ]
  },
  {
   "cell_type": "code",
   "execution_count": 18,
   "metadata": {},
   "outputs": [],
   "source": [
    "user_cols = df['user_id'].apply(map_ids, args=[uid_to_idx]).values\n",
    "movie_cols = df['movie_id'].apply(map_ids, args=[mid_to_idx]).values"
   ]
  },
  {
   "cell_type": "code",
   "execution_count": 19,
   "metadata": {},
   "outputs": [],
   "source": [
    "indices = [x for z in zip(user_cols, movie_cols) for x in z]\n",
    "indptr = np.arange((n_ratings + 1) * 2, step=2)\n",
    "data = np.ones(n_ratings * 2, dtype=int)"
   ]
  },
  {
   "cell_type": "code",
   "execution_count": 20,
   "metadata": {},
   "outputs": [],
   "source": [
    "csr_mtx = sps.csr_matrix((data, indices, indptr), shape=(n_ratings, n_users + n_movies))"
   ]
  },
  {
   "cell_type": "code",
   "execution_count": 21,
   "metadata": {},
   "outputs": [],
   "source": [
    "assert csr_mtx.getrow(0).toarray()[0][n_users] == 1"
   ]
  },
  {
   "cell_type": "markdown",
   "metadata": {},
   "source": [
    "### FM-algorithm implementation"
   ]
  },
  {
   "cell_type": "code",
   "execution_count": 22,
   "metadata": {},
   "outputs": [],
   "source": [
    "def batch_generator(X, y, size):\n",
    "    idx_array = np.arange(size)\n",
    "    np.random.shuffle(idx_array)\n",
    "    return X[idx_array, :], y[idx_array]"
   ]
  },
  {
   "cell_type": "code",
   "execution_count": 23,
   "metadata": {},
   "outputs": [],
   "source": [
    "def rmse(y, y_pred):\n",
    "    return np.sqrt(np.sum((y - y_pred) ** 2) / len(y))"
   ]
  },
  {
   "cell_type": "code",
   "execution_count": 24,
   "metadata": {},
   "outputs": [],
   "source": [
    "def prediction(X, w_0, w, factors):\n",
    "    interaction_mtx = ((np.power(X * factors, 2) - X.power(2) * np.power(factors, 2)) / 2).sum(axis=1)\n",
    "    wX = X.multiply(w).sum(axis=1)\n",
    "    return w_0 + np.squeeze(np.asarray(wX)) + interaction_mtx"
   ]
  },
  {
   "cell_type": "code",
   "execution_count": 25,
   "metadata": {},
   "outputs": [],
   "source": [
    "def gradient(X, w_0, w, factors, loss, reg_lambda=0.1):\n",
    "    grad_w0 = -(np.sum(loss) - reg_lambda * w_0)\n",
    "    grad_w = -(X.T * loss - reg_lambda * w)\n",
    "\n",
    "    temp = X.power(2).T.multiply(loss).T.tocsr()\n",
    "    csr_mtx = np.sum([temp[i, :].T.multiply(factors) for i in range(X.shape[0])], axis=0)\n",
    "    grad_v = np.asarray(csr_mtx - X.T.multiply(loss).dot(X * factors)) + reg_lambda * factors\n",
    "\n",
    "    return grad_w0, grad_w, grad_v"
   ]
  },
  {
   "cell_type": "code",
   "execution_count": 26,
   "metadata": {},
   "outputs": [],
   "source": [
    "def update(X, w_0, w, factors, loss, learn_rate=0.001):\n",
    "    grad_w0, grad_w, grad_v = gradient(X, w_0, w, factors, loss)\n",
    "    return w_0 - learn_rate * grad_w0, w - learn_rate * grad_w, factors - learn_rate * grad_v"
   ]
  },
  {
   "cell_type": "code",
   "execution_count": 27,
   "metadata": {},
   "outputs": [],
   "source": [
    "X_train, X_test, y_train, y_test = train_test_split(csr_mtx, df['rating'].values.astype(int), test_size=0.2)"
   ]
  },
  {
   "cell_type": "code",
   "execution_count": 49,
   "metadata": {},
   "outputs": [],
   "source": [
    "X_train, X_valid, y_train, y_valid = train_test_split(X_train, y_train, test_size=0.2)"
   ]
  },
  {
   "cell_type": "code",
   "execution_count": 50,
   "metadata": {},
   "outputs": [],
   "source": [
    "batch_size = 1024\n",
    "n_factors = 16"
   ]
  },
  {
   "cell_type": "code",
   "execution_count": 58,
   "metadata": {},
   "outputs": [],
   "source": [
    "w_0 = 0.0\n",
    "w = np.zeros(X_train.shape[1])\n",
    "factors = np.asarray(npm.randn((X_train.shape[1], n_factors)))"
   ]
  },
  {
   "cell_type": "code",
   "execution_count": 59,
   "metadata": {},
   "outputs": [],
   "source": [
    "valid_costs = []"
   ]
  },
  {
   "cell_type": "markdown",
   "metadata": {},
   "source": [
    "Mini-batch gradient descent (sort of).\n",
    "\n",
    "At each iteration it takes a random batch of the train set and updates parameters, until the desired error value is reached on the validation set."
   ]
  },
  {
   "cell_type": "code",
   "execution_count": 60,
   "metadata": {},
   "outputs": [],
   "source": [
    "start_time = datetime.now()"
   ]
  },
  {
   "cell_type": "code",
   "execution_count": 136,
   "metadata": {
    "scrolled": true
   },
   "outputs": [],
   "source": [
    "while True:\n",
    "    batch_X, batch_y = batch_generator(X_train, y_train, batch_size)\n",
    "    \n",
    "    loss = batch_y - prediction(batch_X, w_0, w, factors)\n",
    "    w_0, w, factors = update(batch_X, w_0, w, factors, loss)\n",
    "\n",
    "    valid_costs.append(rmse(y_valid, prediction(X_valid, w_0, w, factors)))\n",
    "    if valid_costs[-1] < 1.1:\n",
    "        break"
   ]
  },
  {
   "cell_type": "code",
   "execution_count": 137,
   "metadata": {},
   "outputs": [],
   "source": [
    "end_time = datetime.now()"
   ]
  },
  {
   "cell_type": "code",
   "execution_count": 138,
   "metadata": {},
   "outputs": [
    {
     "data": {
      "image/png": "[encoded data removed]",
      "text/plain": [
       "<Figure size 432x288 with 1 Axes>"
      ]
     },
     "metadata": {
      "needs_background": "light"
     },
     "output_type": "display_data"
    }
   ],
   "source": [
    "n_iters = len(valid_costs)\n",
    "\n",
    "plt.plot(range(n_iters), valid_costs)\n",
    "plt.xlabel('iteration')\n",
    "plt.ylabel('cost')\n",
    "plt.grid()"
   ]
  },
  {
   "cell_type": "code",
   "execution_count": 140,
   "metadata": {},
   "outputs": [
    {
     "data": {
      "text/plain": [
       "1.1002194830379304"
      ]
     },
     "execution_count": 140,
     "metadata": {},
     "output_type": "execute_result"
    }
   ],
   "source": [
    "error = rmse(y_test, prediction(X_test, w_0, w, factors))\n",
    "error"
   ]
  },
  {
   "cell_type": "code",
   "execution_count": 141,
   "metadata": {},
   "outputs": [
    {
     "name": "stdout",
     "output_type": "stream",
     "text": [
      "Training took 23 hours and 16040 iterations\n"
     ]
    }
   ],
   "source": [
    "timedelta = end_time - start_time\n",
    "\n",
    "print(f\"Training took {timedelta.seconds // 3600} hours and {n_iters} iterations\")"
   ]
  },
  {
   "cell_type": "markdown",
   "metadata": {},
   "source": [
    "Save the final parameters' values."
   ]
  },
  {
   "cell_type": "code",
   "execution_count": 142,
   "metadata": {},
   "outputs": [],
   "source": [
    "factor_names = [f'v_{i}' for i in range(factors.shape[1])]\n",
    "values = {'w_0': w_0, 'w': w, **dict(zip(factor_names, factors.T))}"
   ]
  },
  {
   "cell_type": "code",
   "execution_count": 143,
   "metadata": {},
   "outputs": [],
   "source": [
    "col_names = ['w_0', 'w', *factor_names]\n",
    "output = pd.DataFrame(data=values, columns=col_names)"
   ]
  },
  {
   "cell_type": "code",
   "execution_count": 144,
   "metadata": {},
   "outputs": [],
   "source": [
    "output.to_csv('params.csv', index=False, header=True)"
   ]
  },
  {
   "cell_type": "code",
   "execution_count": null,
   "metadata": {},
   "outputs": [],
   "source": []
  }
 ],
 "metadata": {
  "kernelspec": {
   "display_name": "Python 3",
   "language": "python",
   "name": "python3"
  },
  "language_info": {
   "codemirror_mode": {
    "name": "ipython",
    "version": 3
   },
   "file_extension": ".py",
   "mimetype": "text/x-python",
   "name": "python",
   "nbconvert_exporter": "python",
   "pygments_lexer": "ipython3",
   "version": "3.6.7"
  }
 },
 "nbformat": 4,
 "nbformat_minor": 2
}
