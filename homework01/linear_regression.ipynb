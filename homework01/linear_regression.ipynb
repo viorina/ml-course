{
 "cells": [
  {
   "cell_type": "code",
   "execution_count": 1,
   "metadata": {},
   "outputs": [],
   "source": [
    "import numpy as np\n",
    "import pandas as pd\n",
    "from sklearn.model_selection import KFold"
   ]
  },
  {
   "cell_type": "markdown",
   "metadata": {},
   "source": [
    "### Preprocessing"
   ]
  },
  {
   "cell_type": "markdown",
   "metadata": {},
   "source": [
    "Read the data."
   ]
  },
  {
   "cell_type": "code",
   "execution_count": 2,
   "metadata": {},
   "outputs": [],
   "source": [
    "col_names = [\"Page Popularity/likes\", \"Page Checkins\", \"Page talking about\",\n",
    "             \"Page Category\", \"Derived\", \"Derived\", \"Derived\", \"Derived\",\n",
    "             \"Derived\", \"Derived\", \"Derived\", \"Derived\", \"Derived\",\n",
    "             \"Derived\", \"Derived\", \"Derived\", \"Derived\", \"Derived\",\n",
    "             \"Derived\", \"Derived\", \"Derived\", \"Derived\", \"Derived\",\n",
    "             \"Derived\", \"Derived\", \"Derived\", \"Derived\", \"Derived\",\n",
    "             \"Derived\", \"CC1\", \"CC2\", \"CC3\", \"CC4\", \"CC5\", \"Base time\",\n",
    "             \"Post length\", \"Post Share Count\", \"Post Promotion Status\", \"H Local\",\n",
    "             \"Post Sunday\", \"Post Monday\", \"Post Tuesday\", \"Post Wednesday\", \"Post Thursday\", \"Post Friday\", \"Post Saturday\",\n",
    "             \"Base Sunday\", \"Base Monday\", \"Base Tuesday\", \"Base Wednesday\", \"Base Thursday\", \"Base Friday\", \"Base Saturday\",\n",
    "             \"Target Variable\"]"
   ]
  },
  {
   "cell_type": "code",
   "execution_count": 3,
   "metadata": {},
   "outputs": [
    {
     "name": "stderr",
     "output_type": "stream",
     "text": [
      "/usr/local/lib/python3.6/dist-packages/pandas/io/parsers.py:678: UserWarning: Duplicate names specified. This will raise an error in the future.\n",
      "  return _read(filepath_or_buffer, kwds)\n"
     ]
    }
   ],
   "source": [
    "df = pd.read_csv(\"train.csv\", header=None, names=col_names)"
   ]
  },
  {
   "cell_type": "code",
   "execution_count": 4,
   "metadata": {},
   "outputs": [
    {
     "data": {
      "text/html": [
       "<div>\n",
       "<style scoped>\n",
       "    .dataframe tbody tr th:only-of-type {\n",
       "        vertical-align: middle;\n",
       "    }\n",
       "\n",
       "    .dataframe tbody tr th {\n",
       "        vertical-align: top;\n",
       "    }\n",
       "\n",
       "    .dataframe thead th {\n",
       "        text-align: right;\n",
       "    }\n",
       "</style>\n",
       "<table border=\"1\" class=\"dataframe\">\n",
       "  <thead>\n",
       "    <tr style=\"text-align: right;\">\n",
       "      <th></th>\n",
       "      <th>Page Popularity/likes</th>\n",
       "      <th>Page Checkins</th>\n",
       "      <th>Page talking about</th>\n",
       "      <th>Page Category</th>\n",
       "      <th>Derived</th>\n",
       "      <th>Derived.1</th>\n",
       "      <th>Derived.2</th>\n",
       "      <th>Derived.3</th>\n",
       "      <th>Derived.4</th>\n",
       "      <th>Derived.5</th>\n",
       "      <th>...</th>\n",
       "      <th>Post Friday</th>\n",
       "      <th>Post Saturday</th>\n",
       "      <th>Base Sunday</th>\n",
       "      <th>Base Monday</th>\n",
       "      <th>Base Tuesday</th>\n",
       "      <th>Base Wednesday</th>\n",
       "      <th>Base Thursday</th>\n",
       "      <th>Base Friday</th>\n",
       "      <th>Base Saturday</th>\n",
       "      <th>Target Variable</th>\n",
       "    </tr>\n",
       "  </thead>\n",
       "  <tbody>\n",
       "    <tr>\n",
       "      <th>0</th>\n",
       "      <td>634995</td>\n",
       "      <td>0</td>\n",
       "      <td>463</td>\n",
       "      <td>1</td>\n",
       "      <td>0.0</td>\n",
       "      <td>806.0</td>\n",
       "      <td>11.291045</td>\n",
       "      <td>1.0</td>\n",
       "      <td>70.495138</td>\n",
       "      <td>0.0</td>\n",
       "      <td>...</td>\n",
       "      <td>0</td>\n",
       "      <td>0</td>\n",
       "      <td>0</td>\n",
       "      <td>0</td>\n",
       "      <td>0</td>\n",
       "      <td>0</td>\n",
       "      <td>0</td>\n",
       "      <td>0</td>\n",
       "      <td>1</td>\n",
       "      <td>0</td>\n",
       "    </tr>\n",
       "    <tr>\n",
       "      <th>1</th>\n",
       "      <td>634995</td>\n",
       "      <td>0</td>\n",
       "      <td>463</td>\n",
       "      <td>1</td>\n",
       "      <td>0.0</td>\n",
       "      <td>806.0</td>\n",
       "      <td>11.291045</td>\n",
       "      <td>1.0</td>\n",
       "      <td>70.495138</td>\n",
       "      <td>0.0</td>\n",
       "      <td>...</td>\n",
       "      <td>0</td>\n",
       "      <td>0</td>\n",
       "      <td>0</td>\n",
       "      <td>0</td>\n",
       "      <td>0</td>\n",
       "      <td>0</td>\n",
       "      <td>0</td>\n",
       "      <td>1</td>\n",
       "      <td>0</td>\n",
       "      <td>0</td>\n",
       "    </tr>\n",
       "    <tr>\n",
       "      <th>2</th>\n",
       "      <td>634995</td>\n",
       "      <td>0</td>\n",
       "      <td>463</td>\n",
       "      <td>1</td>\n",
       "      <td>0.0</td>\n",
       "      <td>806.0</td>\n",
       "      <td>11.291045</td>\n",
       "      <td>1.0</td>\n",
       "      <td>70.495138</td>\n",
       "      <td>0.0</td>\n",
       "      <td>...</td>\n",
       "      <td>1</td>\n",
       "      <td>0</td>\n",
       "      <td>0</td>\n",
       "      <td>0</td>\n",
       "      <td>0</td>\n",
       "      <td>0</td>\n",
       "      <td>0</td>\n",
       "      <td>0</td>\n",
       "      <td>1</td>\n",
       "      <td>0</td>\n",
       "    </tr>\n",
       "    <tr>\n",
       "      <th>3</th>\n",
       "      <td>634995</td>\n",
       "      <td>0</td>\n",
       "      <td>463</td>\n",
       "      <td>1</td>\n",
       "      <td>0.0</td>\n",
       "      <td>806.0</td>\n",
       "      <td>11.291045</td>\n",
       "      <td>1.0</td>\n",
       "      <td>70.495138</td>\n",
       "      <td>0.0</td>\n",
       "      <td>...</td>\n",
       "      <td>1</td>\n",
       "      <td>0</td>\n",
       "      <td>0</td>\n",
       "      <td>1</td>\n",
       "      <td>0</td>\n",
       "      <td>0</td>\n",
       "      <td>0</td>\n",
       "      <td>0</td>\n",
       "      <td>0</td>\n",
       "      <td>0</td>\n",
       "    </tr>\n",
       "    <tr>\n",
       "      <th>4</th>\n",
       "      <td>634995</td>\n",
       "      <td>0</td>\n",
       "      <td>463</td>\n",
       "      <td>1</td>\n",
       "      <td>0.0</td>\n",
       "      <td>806.0</td>\n",
       "      <td>11.291045</td>\n",
       "      <td>1.0</td>\n",
       "      <td>70.495138</td>\n",
       "      <td>0.0</td>\n",
       "      <td>...</td>\n",
       "      <td>0</td>\n",
       "      <td>0</td>\n",
       "      <td>0</td>\n",
       "      <td>0</td>\n",
       "      <td>0</td>\n",
       "      <td>1</td>\n",
       "      <td>0</td>\n",
       "      <td>0</td>\n",
       "      <td>0</td>\n",
       "      <td>0</td>\n",
       "    </tr>\n",
       "  </tbody>\n",
       "</table>\n",
       "<p>5 rows × 54 columns</p>\n",
       "</div>"
      ],
      "text/plain": [
       "   Page Popularity/likes  Page Checkins  Page talking about  Page Category  \\\n",
       "0                 634995              0                 463              1   \n",
       "1                 634995              0                 463              1   \n",
       "2                 634995              0                 463              1   \n",
       "3                 634995              0                 463              1   \n",
       "4                 634995              0                 463              1   \n",
       "\n",
       "   Derived  Derived.1  Derived.2  Derived.3  Derived.4  Derived.5  \\\n",
       "0      0.0      806.0  11.291045        1.0  70.495138        0.0   \n",
       "1      0.0      806.0  11.291045        1.0  70.495138        0.0   \n",
       "2      0.0      806.0  11.291045        1.0  70.495138        0.0   \n",
       "3      0.0      806.0  11.291045        1.0  70.495138        0.0   \n",
       "4      0.0      806.0  11.291045        1.0  70.495138        0.0   \n",
       "\n",
       "        ...         Post Friday  Post Saturday  Base Sunday  Base Monday  \\\n",
       "0       ...                   0              0            0            0   \n",
       "1       ...                   0              0            0            0   \n",
       "2       ...                   1              0            0            0   \n",
       "3       ...                   1              0            0            1   \n",
       "4       ...                   0              0            0            0   \n",
       "\n",
       "   Base Tuesday  Base Wednesday  Base Thursday  Base Friday  Base Saturday  \\\n",
       "0             0               0              0            0              1   \n",
       "1             0               0              0            1              0   \n",
       "2             0               0              0            0              1   \n",
       "3             0               0              0            0              0   \n",
       "4             0               1              0            0              0   \n",
       "\n",
       "   Target Variable  \n",
       "0                0  \n",
       "1                0  \n",
       "2                0  \n",
       "3                0  \n",
       "4                0  \n",
       "\n",
       "[5 rows x 54 columns]"
      ]
     },
     "execution_count": 4,
     "metadata": {},
     "output_type": "execute_result"
    }
   ],
   "source": [
    "df.head()"
   ]
  },
  {
   "cell_type": "code",
   "execution_count": 5,
   "metadata": {},
   "outputs": [],
   "source": [
    "X = df.loc[:, df.columns != 'Target Variable'].copy()\n",
    "X.drop([\"Post Promotion Status\"], axis=1, inplace=True)\n",
    "\n",
    "y = df['Target Variable'].values"
   ]
  },
  {
   "cell_type": "markdown",
   "metadata": {},
   "source": [
    "### LR-algorithm implementation"
   ]
  },
  {
   "cell_type": "code",
   "execution_count": 17,
   "metadata": {},
   "outputs": [],
   "source": [
    "def cost_function(X, y, w):\n",
    "    return np.sum((X.dot(w) - y) ** 2) / (2 * len(y))"
   ]
  },
  {
   "cell_type": "code",
   "execution_count": 6,
   "metadata": {},
   "outputs": [],
   "source": [
    "def rmse(y, y_pred):\n",
    "    return np.sqrt(sum((y - y_pred) ** 2) / len(y))\n",
    "\n",
    "def r2_score(y, y_pred):\n",
    "    tss = sum((y - np.mean(y)) ** 2)\n",
    "    rss = sum((y - y_pred) ** 2)\n",
    "    return 1 - (rss / tss)"
   ]
  },
  {
   "cell_type": "code",
   "execution_count": 21,
   "metadata": {},
   "outputs": [],
   "source": [
    "def gradient_descent(X, y, w, eta=1e-2, eps=1e-3, max_iters=10000):\n",
    "    cost = np.inf\n",
    "\n",
    "    for i in range(1, max_iters + 1):\n",
    "        loss = X.dot(w) - y\n",
    "        gradient = X.T.dot(loss) / len(y)\n",
    "        w_new = w - eta / np.sqrt(i) * gradient\n",
    "\n",
    "        cost_new = cost_function(X, y, w)\n",
    "        if np.linalg.norm(w - w_new) < eps or cost - cost_new < eps:\n",
    "            return w_new, i\n",
    "        w, cost = w_new, cost_new\n",
    "\n",
    "    return w, max_iters"
   ]
  },
  {
   "cell_type": "markdown",
   "metadata": {},
   "source": [
    "Cross-validation."
   ]
  },
  {
   "cell_type": "code",
   "execution_count": 8,
   "metadata": {},
   "outputs": [],
   "source": [
    "def train_test_generator(X, y):\n",
    "    kf = KFold(5, True, 1)\n",
    "    \n",
    "    for train, test in kf.split(X):\n",
    "        X_train, X_test = X.iloc[train].copy(), X.iloc[test].copy()\n",
    "\n",
    "        train_mean, train_std = X_train.mean(), X_train.std()\n",
    "        X_train_scaled = (X_train - train_mean) / train_std\n",
    "        X_test_scaled = (X_test - train_mean) / train_std\n",
    "\n",
    "        m1, m2 = X_train_scaled.shape[0], X_test_scaled.shape[0]\n",
    "        X_train = np.hstack((np.ones(m1).reshape(m1, 1), X_train_scaled))\n",
    "        X_test = np.hstack((np.ones(m2).reshape(m2, 1), X_test_scaled)) \n",
    "\n",
    "        yield X_train, X_test, y[train], y[test]"
   ]
  },
  {
   "cell_type": "code",
   "execution_count": 22,
   "metadata": {},
   "outputs": [],
   "source": [
    "weights, n_iters = [], []\n",
    "rmse_train, r2_train = [], []\n",
    "rmse_test, r2_test  = [], []"
   ]
  },
  {
   "cell_type": "code",
   "execution_count": 23,
   "metadata": {},
   "outputs": [],
   "source": [
    "for X_train, X_test, y_train, y_test in train_test_generator(X, y):\n",
    "    w_init = np.zeros(X_train.shape[1])\n",
    "    w, iters = gradient_descent(X_train, y_train, w_init)\n",
    "    weights.append(w)\n",
    "    n_iters.append(iters)\n",
    "\n",
    "    y_pred_train = X_train.dot(w)\n",
    "    rmse_train.append(rmse(y_train, y_pred_train))\n",
    "    r2_train.append(r2_score(y_train, y_pred_train))\n",
    "\n",
    "    y_pred_test = X_test.dot(w)\n",
    "    rmse_test.append(rmse(y_test, y_pred_test))\n",
    "    r2_test.append(r2_score(y_test, y_pred_test))"
   ]
  },
  {
   "cell_type": "markdown",
   "metadata": {},
   "source": [
    "Make a report."
   ]
  },
  {
   "cell_type": "code",
   "execution_count": 58,
   "metadata": {},
   "outputs": [],
   "source": [
    "fold_names = ['T1', 'T2', 'T3', 'T4', 'T5']"
   ]
  },
  {
   "cell_type": "code",
   "execution_count": 59,
   "metadata": {},
   "outputs": [],
   "source": [
    "values = [n_iters, rmse_train, r2_train, rmse_test, r2_test]\n",
    "output = pd.DataFrame(data=values, \n",
    "                      index=['n_iters', 'rmse_train', 'r2_train', 'rmse_test', 'r2_test'], \n",
    "                      columns=fold_names)"
   ]
  },
  {
   "cell_type": "code",
   "execution_count": 60,
   "metadata": {},
   "outputs": [],
   "source": [
    "output['E'] = output.mean(axis=1)\n",
    "output['STD'] = output.loc[:, output.columns != 'E'].std(axis=1)"
   ]
  },
  {
   "cell_type": "code",
   "execution_count": 61,
   "metadata": {},
   "outputs": [],
   "source": [
    "weights_cols = [\"Const\", *X.columns.values]\n",
    "df_weights = pd.DataFrame(data=weights, \n",
    "                          index=fold_names,\n",
    "                          columns=weights_cols)"
   ]
  },
  {
   "cell_type": "code",
   "execution_count": 62,
   "metadata": {},
   "outputs": [],
   "source": [
    "df_weights = df_weights.transpose()\n",
    "\n",
    "df_weights['E'] = df_weights.mean(axis=1)\n",
    "df_weights['STD'] = df_weights.loc[:, df_weights.columns != 'E'].std(axis=1)"
   ]
  },
  {
   "cell_type": "code",
   "execution_count": 63,
   "metadata": {},
   "outputs": [],
   "source": [
    "output = output.append(df_weights)"
   ]
  },
  {
   "cell_type": "code",
   "execution_count": 64,
   "metadata": {},
   "outputs": [],
   "source": [
    "output.to_csv(\"report.csv\", index=True, header=True)"
   ]
  },
  {
   "cell_type": "code",
   "execution_count": null,
   "metadata": {},
   "outputs": [],
   "source": []
  }
 ],
 "metadata": {
  "kernelspec": {
   "display_name": "Python 3",
   "language": "python",
   "name": "python3"
  },
  "language_info": {
   "codemirror_mode": {
    "name": "ipython",
    "version": 3
   },
   "file_extension": ".py",
   "mimetype": "text/x-python",
   "name": "python",
   "nbconvert_exporter": "python",
   "pygments_lexer": "ipython3",
   "version": "3.6.6"
  }
 },
 "nbformat": 4,
 "nbformat_minor": 2
}
